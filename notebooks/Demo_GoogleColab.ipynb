{
 "cells": [
  {
   "cell_type": "code",
   "execution_count": 24,
   "metadata": {
    "colab": {
     "base_uri": "https://localhost:8080/"
    },
    "id": "nO7hv5rNsj8K",
    "outputId": "cf41b4ab-c4c4-4837-d236-e6415fd5c39a"
   },
   "outputs": [
    {
     "name": "stdout",
     "output_type": "stream",
     "text": [
      "Cloning into 'egnn-transformer'...\n",
      "remote: Enumerating objects: 1389, done.\u001b[K\n",
      "remote: Counting objects: 100% (501/501), done.\u001b[K\n",
      "remote: Compressing objects: 100% (253/253), done.\u001b[K\n",
      "remote: Total 1389 (delta 300), reused 372 (delta 246), pack-reused 888\u001b[K\n",
      "Receiving objects: 100% (1389/1389), 3.28 MiB | 22.83 MiB/s, done.\n",
      "Resolving deltas: 100% (803/803), done.\n",
      "\n",
      "Current Directory:\n",
      "/content/egnn-transformer/egnn-transformer/egnn-transformer/egnn-transformer/egnn-transformer/egnn-transformer\n"
     ]
    }
   ],
   "source": [
    "import os\n",
    "from pathlib import Path\n",
    "\n",
    "try:\n",
    "    import google.colab\n",
    "    IN_COLAB = True\n",
    "except:\n",
    "    IN_COLAB = False\n",
    "\n",
    "if IN_COLAB:\n",
    "    from getpass import getpass\n",
    "    pat = getpass.getpass(prompt='Enter your GitHub Personal Access Token: ')\n",
    "    repo_name = 'Ioana-Simion/egnn-jax'\n",
    "    url = f\"https://{pat}@github.com/{repo_name}.git\"\n",
    "    !git clone --branch main {url}\n",
    "    #!git clone --branch main {url}\n",
    "    print(\"\\nCurrent Directory:\")\n",
    "    %cd egnn-jax"
   ]
  },
  {
   "cell_type": "code",
   "execution_count": 18,
   "metadata": {
    "id": "KC13ZDvktm2E"
   },
   "outputs": [],
   "source": [
    "%%capture\n",
    "try:\n",
    "    import google.colab\n",
    "    IN_COLAB = True\n",
    "except:\n",
    "    IN_COLAB = False\n",
    "\n",
    "if IN_COLAB:\n",
    "    # Read the requirements.txt file\n",
    "    with open('requirements.txt') as f:\n",
    "        requirements = f.read().splitlines()\n",
    "\n",
    "    # Check if each requirement is installed, if not, install it\n",
    "    import pkg_resources\n",
    "    installed_packages = {pkg.key for pkg in pkg_resources.working_set}\n",
    "    for requirement in requirements:\n",
    "        if not any(requirement.split('==')[0] in pkg for pkg in installed_packages):\n",
    "            !pip install {requirement}\n",
    "\n",
    "    !pip install datasets\n",
    "\n",
    "\n",
    "else: # automatically checks if the current directory is 'repo name'\n",
    "    curdir = Path.cwd()\n",
    "    print(\"Current Directory\", curdir)\n",
    "    assert curdir.name == \"dl2\" or curdir.parent.name == \"dl2\", \"Notebook cwd has to be on the project root\"\n",
    "    if curdir.name == \"notebooks\":\n",
    "        %cd ..\n",
    "        print(\"New Current Directory:\", curdir)"
   ]
  },
  {
   "cell_type": "code",
   "execution_count": 19,
   "metadata": {
    "id": "9GJmW3l1zy_T"
   },
   "outputs": [],
   "source": [
    "%%capture\n",
    "pip install torch_geometric"
   ]
  },
  {
   "cell_type": "code",
   "execution_count": 20,
   "metadata": {
    "id": "csO_OP_UQkTM"
   },
   "outputs": [],
   "source": [
    "%%capture\n",
    "pip install jraph"
   ]
  },
  {
   "cell_type": "code",
   "execution_count": 25,
   "metadata": {
    "id": "7IAvw65Ct2fc"
   },
   "outputs": [],
   "source": [
    "import nbody_transformer_trainer"
   ]
  },
  {
   "cell_type": "code",
   "execution_count": 6,
   "metadata": {
    "colab": {
     "base_uri": "https://localhost:8080/"
    },
    "id": "wlZT1vqnrvnM",
    "outputId": "005ab91f-fe6a-4a6a-b171-78522d732b4e"
   },
   "outputs": [
    {
     "name": "stdout",
     "output_type": "stream",
     "text": [
      "Mounted at /content/drive\n"
     ]
    }
   ],
   "source": [
    "from google.colab import drive\n",
    "drive.mount('/content/drive')"
   ]
  },
  {
   "cell_type": "markdown",
   "metadata": {},
   "source": [
    "# generated Nbody files must be in nbody directory in google drive "
   ]
  },
  {
   "cell_type": "code",
   "execution_count": 1,
   "metadata": {},
   "outputs": [
    {
     "name": "stdout",
     "output_type": "stream",
     "text": [
      "python: can't open file '/home/jonas/Downloads/n_body/dataset/generate_dataset.py': [Errno 2] No such file or directory\n"
     ]
    }
   ],
   "source": [
    "!python n_body/dataset/generate_dataset.py --initial_vel 1 --num-train 3000 --length 1000 --length_test 1000 --sufix \"small\""
   ]
  },
  {
   "cell_type": "code",
   "execution_count": 9,
   "metadata": {
    "id": "qnoap2BBqm0w"
   },
   "outputs": [],
   "source": [
    "# List files in the destination directory\n",
    "!mkdir /content/egnn-transformer/n_body/dataset/data/\n",
    "# Copy files from Google Drive to the desired location\n",
    "!cp /content/drive/MyDrive/nbody/* /content/egnn-transformer/n_body/dataset/data/\n"
   ]
  },
  {
   "cell_type": "code",
   "execution_count": 10,
   "metadata": {
    "colab": {
     "base_uri": "https://localhost:8080/"
    },
    "id": "OxamDNJRtQks",
    "outputId": "1690d3d2-de18-48fc-836d-6798172719aa"
   },
   "outputs": [
    {
     "name": "stdout",
     "output_type": "stream",
     "text": [
      "charges_test_charged5_initvel1small.npy   loc_test_charged5_initvel1small.npy\n",
      "charges_train_charged5_initvel1small.npy  loc_train_charged5_initvel1small.npy\n",
      "charges_valid_charged5_initvel1small.npy  loc_valid_charged5_initvel1small.npy\n",
      "edges_test_charged5_initvel1small.npy\t  vel_test_charged5_initvel1small.npy\n",
      "edges_train_charged5_initvel1small.npy\t  vel_train_charged5_initvel1small.npy\n",
      "edges_valid_charged5_initvel1small.npy\t  vel_valid_charged5_initvel1small.npy\n"
     ]
    }
   ],
   "source": [
    "!ls /content/egnn-transformer/n_body/dataset/data/"
   ]
  },
  {
   "cell_type": "markdown",
   "metadata": {},
   "source": [
    "# Transformer architecture"
   ]
  },
  {
   "cell_type": "code",
   "execution_count": null,
   "metadata": {},
   "outputs": [],
   "source": [
    "!python nbody_transformer_trainer.py --nbody_path '/content/egnn-transformer/n_body/dataset/data/' --equivariance \"velo_roto_translation\" --batch_size 500 \\\n",
    "--epochs 40 --node_only --num_node_encoders 4"
   ]
  },
  {
   "cell_type": "code",
   "execution_count": null,
   "metadata": {},
   "outputs": [],
   "source": [
    "!python nbody_transformer_trainer.py --nbody_path '/content/egnn-transformer/n_body/dataset/data/' --equivariance \"velo_roto_translation\" --batch_size 500 --epochs 40 \\\n",
    " --num_edge_encoders 0 --num_node_encoders 2"
   ]
  },
  {
   "cell_type": "code",
   "execution_count": 32,
   "metadata": {
    "colab": {
     "base_uri": "https://localhost:8080/"
    },
    "id": "_vUMIZ17Krlo",
    "outputId": "dfa91ce3-dc3e-41e1-fd65-f52239ae2b0c"
   },
   "outputs": [
    {
     "name": "stdout",
     "output_type": "stream",
     "text": [
      "2024-05-28 17:06:36.997688: E external/local_xla/xla/stream_executor/cuda/cuda_dnn.cc:9261] Unable to register cuDNN factory: Attempting to register factory for plugin cuDNN when one has already been registered\n",
      "2024-05-28 17:06:36.997763: E external/local_xla/xla/stream_executor/cuda/cuda_fft.cc:607] Unable to register cuFFT factory: Attempting to register factory for plugin cuFFT when one has already been registered\n",
      "2024-05-28 17:06:36.999439: E external/local_xla/xla/stream_executor/cuda/cuda_blas.cc:1515] Unable to register cuBLAS factory: Attempting to register factory for plugin cuBLAS when one has already been registered\n",
      "2024-05-28 17:06:38.733062: W tensorflow/compiler/tf2tensorrt/utils/py_utils.cc:38] TF-TRT Warning: Could not find TensorRT\n",
      "Random seed set as 42\n",
      "Parameters: 366083\n",
      "[Epoch  1] Training loss: 0.106652, Validation loss: 0.036749\n",
      "\t   (New best performance, saving model...)\n",
      "[Epoch  2] Training loss: 0.038705, Validation loss: 0.028615\n",
      "[Epoch  3] Training loss: 0.027253, Validation loss: 0.025081\n",
      "[Epoch  4] Training loss: 0.025068, Validation loss: 0.021990\n",
      "[Epoch  5] Training loss: 0.020997, Validation loss: 0.018224\n",
      "[Epoch  6] Training loss: 0.019066, Validation loss: 0.016942\n",
      "[Epoch  7] Training loss: 0.017407, Validation loss: 0.016288\n",
      "[Epoch  8] Training loss: 0.015165, Validation loss: 0.014908\n",
      "[Epoch  9] Training loss: 0.014673, Validation loss: 0.013662\n",
      "[Epoch 10] Training loss: 0.013388, Validation loss: 0.013062\n",
      "[Epoch 11] Training loss: 0.012822, Validation loss: 0.012464\n",
      "[Epoch 12] Training loss: 0.011713, Validation loss: 0.011338\n",
      "[Epoch 13] Training loss: 0.011102, Validation loss: 0.010925\n",
      "[Epoch 14] Training loss: 0.010571, Validation loss: 0.010562\n",
      "[Epoch 15] Training loss: 0.009964, Validation loss: 0.009518\n",
      "[Epoch 16] Training loss: 0.009241, Validation loss: 0.009042\n",
      "[Epoch 17] Training loss: 0.008800, Validation loss: 0.008871\n",
      "[Epoch 18] Training loss: 0.008297, Validation loss: 0.008437\n",
      "[Epoch 19] Training loss: 0.008213, Validation loss: 0.008720\n",
      "[Epoch 20] Training loss: 0.007955, Validation loss: 0.007529\n",
      "[Epoch 21] Training loss: 0.007559, Validation loss: 0.007253\n",
      "[Epoch 22] Training loss: 0.007341, Validation loss: 0.007126\n",
      "[Epoch 23] Training loss: 0.007002, Validation loss: 0.007184\n",
      "[Epoch 24] Training loss: 0.006654, Validation loss: 0.006437\n",
      "[Epoch 25] Training loss: 0.006423, Validation loss: 0.006177\n",
      "[Epoch 26] Training loss: 0.006246, Validation loss: 0.006291\n",
      "[Epoch 27] Training loss: 0.005936, Validation loss: 0.006521\n",
      "[Epoch 28] Training loss: 0.006070, Validation loss: 0.005794\n",
      "[Epoch 29] Training loss: 0.005587, Validation loss: 0.005765\n",
      "[Epoch 30] Training loss: 0.005583, Validation loss: 0.005458\n",
      "[Epoch 31] Training loss: 0.005520, Validation loss: 0.005244\n",
      "[Epoch 32] Training loss: 0.005288, Validation loss: 0.005000\n",
      "[Epoch 33] Training loss: 0.005013, Validation loss: 0.005011\n",
      "[Epoch 34] Training loss: 0.004849, Validation loss: 0.005079\n",
      "[Epoch 35] Training loss: 0.004497, Validation loss: 0.004810\n",
      "[Epoch 36] Training loss: 0.004739, Validation loss: 0.004629\n",
      "[Epoch 37] Training loss: 0.004378, Validation loss: 0.004773\n",
      "[Epoch 38] Training loss: 0.004401, Validation loss: 0.004573\n",
      "[Epoch 39] Training loss: 0.004353, Validation loss: 0.004305\n",
      "[Epoch 40] Training loss: 0.004038, Validation loss: 0.003886\n",
      "Final Performance [Epoch 40] Training loss: 0.004038, Validation loss: 0.003886, Test loss: 0.036390\n",
      "Figure(640x480)\n",
      "============== Test loss: 0.036390 ===============\n",
      "\n"
     ]
    }
   ],
   "source": [
    "!python nbody_transformer_trainer.py --nbody_path '/content/egnn-transformer/n_body/dataset/data/' --equivariance \"velo_roto_translation\" --batch_size 500 \\\n",
    "--epochs 40 --dim 128"
   ]
  },
  {
   "cell_type": "code",
   "execution_count": 30,
   "metadata": {
    "colab": {
     "base_uri": "https://localhost:8080/"
    },
    "id": "QLXeRo4kGHmD",
    "outputId": "afa87c11-b9b7-479d-b5a7-8b747bc5575e"
   },
   "outputs": [
    {
     "name": "stdout",
     "output_type": "stream",
     "text": [
      "2024-05-28 16:53:14.996041: E external/local_xla/xla/stream_executor/cuda/cuda_dnn.cc:9261] Unable to register cuDNN factory: Attempting to register factory for plugin cuDNN when one has already been registered\n",
      "2024-05-28 16:53:14.996085: E external/local_xla/xla/stream_executor/cuda/cuda_fft.cc:607] Unable to register cuFFT factory: Attempting to register factory for plugin cuFFT when one has already been registered\n",
      "2024-05-28 16:53:14.997294: E external/local_xla/xla/stream_executor/cuda/cuda_blas.cc:1515] Unable to register cuBLAS factory: Attempting to register factory for plugin cuBLAS when one has already been registered\n",
      "2024-05-28 16:53:16.139631: W tensorflow/compiler/tf2tensorrt/utils/py_utils.cc:38] TF-TRT Warning: Could not find TensorRT\n",
      "Random seed set as 42\n",
      "Parameters: 100355\n",
      "[Epoch  1] Training loss: 0.091944, Validation loss: 0.053193\n",
      "\t   (New best performance, saving model...)\n",
      "[Epoch  2] Training loss: 0.048057, Validation loss: 0.034616\n",
      "[Epoch  3] Training loss: 0.031734, Validation loss: 0.032689\n",
      "[Epoch  4] Training loss: 0.027928, Validation loss: 0.024713\n",
      "[Epoch  5] Training loss: 0.024559, Validation loss: 0.021738\n",
      "[Epoch  6] Training loss: 0.020049, Validation loss: 0.019150\n",
      "[Epoch  7] Training loss: 0.018573, Validation loss: 0.018132\n",
      "[Epoch  8] Training loss: 0.017323, Validation loss: 0.016980\n",
      "[Epoch  9] Training loss: 0.015725, Validation loss: 0.015200\n",
      "[Epoch 10] Training loss: 0.014467, Validation loss: 0.014213\n",
      "[Epoch 11] Training loss: 0.013679, Validation loss: 0.013543\n",
      "[Epoch 12] Training loss: 0.013396, Validation loss: 0.013227\n",
      "[Epoch 13] Training loss: 0.012251, Validation loss: 0.012294\n",
      "[Epoch 14] Training loss: 0.011635, Validation loss: 0.011071\n",
      "[Epoch 15] Training loss: 0.010771, Validation loss: 0.010907\n",
      "[Epoch 16] Training loss: 0.010477, Validation loss: 0.009740\n",
      "[Epoch 17] Training loss: 0.009933, Validation loss: 0.009114\n",
      "[Epoch 18] Training loss: 0.009273, Validation loss: 0.009163\n",
      "[Epoch 19] Training loss: 0.008831, Validation loss: 0.008775\n",
      "[Epoch 20] Training loss: 0.008270, Validation loss: 0.008127\n",
      "[Epoch 21] Training loss: 0.007839, Validation loss: 0.007752\n",
      "[Epoch 22] Training loss: 0.007590, Validation loss: 0.007297\n",
      "[Epoch 23] Training loss: 0.007387, Validation loss: 0.007112\n",
      "[Epoch 24] Training loss: 0.006848, Validation loss: 0.006788\n",
      "[Epoch 25] Training loss: 0.006449, Validation loss: 0.006303\n",
      "[Epoch 26] Training loss: 0.006392, Validation loss: 0.006154\n",
      "[Epoch 27] Training loss: 0.006237, Validation loss: 0.005937\n",
      "[Epoch 28] Training loss: 0.005898, Validation loss: 0.005675\n",
      "[Epoch 29] Training loss: 0.005561, Validation loss: 0.005480\n",
      "[Epoch 30] Training loss: 0.005533, Validation loss: 0.005362\n",
      "[Epoch 31] Training loss: 0.005290, Validation loss: 0.005202\n",
      "[Epoch 32] Training loss: 0.005195, Validation loss: 0.004864\n",
      "[Epoch 33] Training loss: 0.004868, Validation loss: 0.004984\n",
      "[Epoch 34] Training loss: 0.004789, Validation loss: 0.004747\n",
      "[Epoch 35] Training loss: 0.004607, Validation loss: 0.004652\n",
      "[Epoch 36] Training loss: 0.004473, Validation loss: 0.004730\n",
      "[Epoch 37] Training loss: 0.004385, Validation loss: 0.004373\n",
      "[Epoch 38] Training loss: 0.004265, Validation loss: 0.004176\n",
      "[Epoch 39] Training loss: 0.004150, Validation loss: 0.004281\n",
      "[Epoch 40] Training loss: 0.004152, Validation loss: 0.004038\n",
      "Final Performance [Epoch 40] Training loss: 0.004152, Validation loss: 0.004038, Test loss: 0.051746\n",
      "Figure(640x480)\n",
      "============== Test loss: 0.051746 ===============\n",
      "\n"
     ]
    }
   ],
   "source": [
    "!python nbody_transformer_trainer.py --nbody_path '/content/egnn-transformer/n_body/dataset/data/' --equivariance \"velo_roto_translation\" --batch_size 500 \\\n",
    "--epochs 40 --node_only --dim 128"
   ]
  },
  {
   "cell_type": "markdown",
   "metadata": {},
   "source": [
    "# Equivariance Ablation"
   ]
  },
  {
   "cell_type": "code",
   "execution_count": null,
   "metadata": {},
   "outputs": [],
   "source": [
    "!python nbody_transformer_trainer.py --nbody_path '/content/egnn-transformer/n_body/dataset/data/' --equivariance \"not_equivariant\" --batch_size 500 --epochs 40"
   ]
  },
  {
   "cell_type": "code",
   "execution_count": null,
   "metadata": {},
   "outputs": [],
   "source": [
    "!python nbody_transformer_trainer.py --nbody_path '/content/egnn-transformer/n_body/dataset/data/' --equivariance \"translation\" --batch_size 500 --epochs 40"
   ]
  },
  {
   "cell_type": "code",
   "execution_count": 22,
   "metadata": {
    "colab": {
     "base_uri": "https://localhost:8080/"
    },
    "id": "1v3h--pK5bB1",
    "outputId": "7e9992de-9c9c-4a25-c132-e14a1e4ecb9d"
   },
   "outputs": [
    {
     "name": "stdout",
     "output_type": "stream",
     "text": [
      "2024-05-28 16:02:25.710385: E external/local_xla/xla/stream_executor/cuda/cuda_dnn.cc:9261] Unable to register cuDNN factory: Attempting to register factory for plugin cuDNN when one has already been registered\n",
      "2024-05-28 16:02:25.710436: E external/local_xla/xla/stream_executor/cuda/cuda_fft.cc:607] Unable to register cuFFT factory: Attempting to register factory for plugin cuFFT when one has already been registered\n",
      "2024-05-28 16:02:25.711699: E external/local_xla/xla/stream_executor/cuda/cuda_blas.cc:1515] Unable to register cuBLAS factory: Attempting to register factory for plugin cuBLAS when one has already been registered\n",
      "2024-05-28 16:02:26.816614: W tensorflow/compiler/tf2tensorrt/utils/py_utils.cc:38] TF-TRT Warning: Could not find TensorRT\n",
      "Random seed set as 42\n",
      "Parameters: 92931\n",
      "[Epoch  1] Training loss: 0.075563, Validation loss: 0.049253\n",
      "\t   (New best performance, saving model...)\n",
      "[Epoch  2] Training loss: 0.037486, Validation loss: 0.027305\n",
      "[Epoch  3] Training loss: 0.026744, Validation loss: 0.024576\n",
      "[Epoch  4] Training loss: 0.021421, Validation loss: 0.019947\n",
      "[Epoch  5] Training loss: 0.018583, Validation loss: 0.017119\n",
      "[Epoch  6] Training loss: 0.016115, Validation loss: 0.015630\n",
      "[Epoch  7] Training loss: 0.014770, Validation loss: 0.014108\n",
      "[Epoch  8] Training loss: 0.013244, Validation loss: 0.013057\n",
      "[Epoch  9] Training loss: 0.012174, Validation loss: 0.011458\n",
      "[Epoch 10] Training loss: 0.011178, Validation loss: 0.010728\n",
      "[Epoch 11] Training loss: 0.010372, Validation loss: 0.009928\n",
      "[Epoch 12] Training loss: 0.009636, Validation loss: 0.009267\n",
      "[Epoch 13] Training loss: 0.009107, Validation loss: 0.009028\n",
      "[Epoch 14] Training loss: 0.008615, Validation loss: 0.008428\n",
      "[Epoch 15] Training loss: 0.007867, Validation loss: 0.007640\n",
      "[Epoch 16] Training loss: 0.007629, Validation loss: 0.007237\n",
      "[Epoch 17] Training loss: 0.007010, Validation loss: 0.007319\n",
      "[Epoch 18] Training loss: 0.006577, Validation loss: 0.006701\n",
      "[Epoch 19] Training loss: 0.006465, Validation loss: 0.006306\n",
      "[Epoch 20] Training loss: 0.006158, Validation loss: 0.005907\n",
      "[Epoch 21] Training loss: 0.005795, Validation loss: 0.006190\n",
      "[Epoch 22] Training loss: 0.005593, Validation loss: 0.005731\n",
      "[Epoch 23] Training loss: 0.005467, Validation loss: 0.005491\n",
      "[Epoch 24] Training loss: 0.005277, Validation loss: 0.005105\n",
      "[Epoch 25] Training loss: 0.005070, Validation loss: 0.005025\n",
      "[Epoch 26] Training loss: 0.004803, Validation loss: 0.004969\n",
      "[Epoch 27] Training loss: 0.004668, Validation loss: 0.004884\n",
      "[Epoch 28] Training loss: 0.004514, Validation loss: 0.004527\n",
      "[Epoch 29] Training loss: 0.004424, Validation loss: 0.004499\n",
      "[Epoch 30] Training loss: 0.004287, Validation loss: 0.004336\n",
      "[Epoch 31] Training loss: 0.004107, Validation loss: 0.004201\n",
      "[Epoch 32] Training loss: 0.004058, Validation loss: 0.004099\n",
      "[Epoch 33] Training loss: 0.003876, Validation loss: 0.003935\n",
      "[Epoch 34] Training loss: 0.003719, Validation loss: 0.004030\n",
      "[Epoch 35] Training loss: 0.003701, Validation loss: 0.003947\n",
      "[Epoch 36] Training loss: 0.003612, Validation loss: 0.003682\n",
      "[Epoch 37] Training loss: 0.003586, Validation loss: 0.003659\n",
      "[Epoch 38] Training loss: 0.003504, Validation loss: 0.003681\n",
      "[Epoch 39] Training loss: 0.003527, Validation loss: 0.003538\n",
      "[Epoch 40] Training loss: 0.003408, Validation loss: 0.003546\n",
      "Final Performance [Epoch 40] Training loss: 0.003527, Validation loss: 0.003538, Test loss: 0.050895\n",
      "Figure(640x480)\n",
      "============== Test loss: 0.050895 ===============\n",
      "\n"
     ]
    }
   ],
   "source": [
    "!python nbody_transformer_trainer.py --nbody_path '/content/egnn-transformer/n_body/dataset/data/' --equivariance \"velo_roto_translation\" --batch_size 500 --epochs 40"
   ]
  },
  {
   "cell_type": "code",
   "execution_count": 23,
   "metadata": {
    "colab": {
     "base_uri": "https://localhost:8080/"
    },
    "id": "8_vaR7Slvouk",
    "outputId": "2c5a617e-ed32-4aa3-b7d0-1db149d3787f"
   },
   "outputs": [
    {
     "name": "stdout",
     "output_type": "stream",
     "text": [
      "2024-05-28 16:24:14.556949: E external/local_xla/xla/stream_executor/cuda/cuda_dnn.cc:9261] Unable to register cuDNN factory: Attempting to register factory for plugin cuDNN when one has already been registered\n",
      "2024-05-28 16:24:14.557006: E external/local_xla/xla/stream_executor/cuda/cuda_fft.cc:607] Unable to register cuFFT factory: Attempting to register factory for plugin cuFFT when one has already been registered\n",
      "2024-05-28 16:24:14.558667: E external/local_xla/xla/stream_executor/cuda/cuda_blas.cc:1515] Unable to register cuBLAS factory: Attempting to register factory for plugin cuBLAS when one has already been registered\n",
      "2024-05-28 16:24:16.185388: W tensorflow/compiler/tf2tensorrt/utils/py_utils.cc:38] TF-TRT Warning: Could not find TensorRT\n",
      "Random seed set as 42\n",
      "Parameters: 92931\n",
      "[Epoch  1] Training loss: 0.397969, Validation loss: 0.319894\n",
      "\t   (New best performance, saving model...)\n",
      "[Epoch  2] Training loss: 0.290843, Validation loss: 0.262510\n",
      "[Epoch  3] Training loss: 0.257820, Validation loss: 0.256240\n",
      "[Epoch  4] Training loss: 0.248297, Validation loss: 0.247193\n",
      "[Epoch  5] Training loss: 0.239721, Validation loss: 0.238217\n",
      "[Epoch  6] Training loss: 0.233903, Validation loss: 0.232915\n",
      "[Epoch  7] Training loss: 0.228314, Validation loss: 0.227354\n",
      "[Epoch  8] Training loss: 0.224409, Validation loss: 0.223732\n",
      "[Epoch  9] Training loss: 0.221074, Validation loss: 0.222547\n",
      "[Epoch 10] Training loss: 0.216246, Validation loss: 0.216258\n",
      "[Epoch 11] Training loss: 0.214280, Validation loss: 0.213597\n",
      "[Epoch 12] Training loss: 0.211414, Validation loss: 0.211889\n",
      "[Epoch 13] Training loss: 0.210456, Validation loss: 0.208445\n",
      "[Epoch 14] Training loss: 0.207425, Validation loss: 0.207345\n",
      "[Epoch 15] Training loss: 0.205898, Validation loss: 0.206851\n",
      "[Epoch 16] Training loss: 0.204705, Validation loss: 0.204575\n",
      "[Epoch 17] Training loss: 0.202789, Validation loss: 0.204262\n",
      "[Epoch 18] Training loss: 0.200938, Validation loss: 0.201906\n",
      "[Epoch 19] Training loss: 0.199895, Validation loss: 0.200265\n",
      "[Epoch 20] Training loss: 0.197998, Validation loss: 0.199281\n",
      "[Epoch 21] Training loss: 0.197513, Validation loss: 0.197097\n",
      "[Epoch 22] Training loss: 0.196186, Validation loss: 0.195437\n",
      "[Epoch 23] Training loss: 0.193254, Validation loss: 0.193615\n",
      "[Epoch 24] Training loss: 0.191981, Validation loss: 0.192464\n",
      "[Epoch 25] Training loss: 0.189624, Validation loss: 0.190176\n",
      "[Epoch 26] Training loss: 0.187181, Validation loss: 0.187608\n",
      "[Epoch 27] Training loss: 0.184094, Validation loss: 0.184426\n",
      "[Epoch 28] Training loss: 0.180754, Validation loss: 0.181126\n",
      "[Epoch 29] Training loss: 0.178022, Validation loss: 0.179465\n",
      "[Epoch 30] Training loss: 0.175055, Validation loss: 0.176296\n",
      "[Epoch 31] Training loss: 0.172573, Validation loss: 0.174669\n",
      "[Epoch 32] Training loss: 0.171387, Validation loss: 0.172232\n",
      "[Epoch 33] Training loss: 0.169777, Validation loss: 0.170640\n",
      "[Epoch 34] Training loss: 0.167050, Validation loss: 0.169664\n",
      "[Epoch 35] Training loss: 0.165748, Validation loss: 0.168893\n",
      "[Epoch 36] Training loss: 0.164982, Validation loss: 0.167794\n",
      "[Epoch 37] Training loss: 0.162801, Validation loss: 0.165747\n",
      "[Epoch 38] Training loss: 0.161796, Validation loss: 0.164233\n",
      "[Epoch 39] Training loss: 0.161088, Validation loss: 0.162994\n",
      "[Epoch 40] Training loss: 0.159556, Validation loss: 0.161951\n",
      "Final Performance [Epoch 40] Training loss: 0.159556, Validation loss: 0.161951, Test loss: 0.313850\n",
      "Figure(640x480)\n",
      "============== Test loss: 0.313850 ===============\n",
      "\n"
     ]
    }
   ],
   "source": [
    "!python nbody_transformer_trainer.py --nbody_path '/content/egnn-transformer/n_body/dataset/data/' --equivariance \"roto_translation\" --batch_size 500 --epochs 40"
   ]
  }
 ],
 "metadata": {
  "accelerator": "GPU",
  "colab": {
   "gpuType": "T4",
   "provenance": []
  },
  "kernelspec": {
   "display_name": "Python 3 (ipykernel)",
   "language": "python",
   "name": "python3"
  },
  "language_info": {
   "codemirror_mode": {
    "name": "ipython",
    "version": 3
   },
   "file_extension": ".py",
   "mimetype": "text/x-python",
   "name": "python",
   "nbconvert_exporter": "python",
   "pygments_lexer": "ipython3",
   "version": "3.10.13"
  }
 },
 "nbformat": 4,
 "nbformat_minor": 4
}
